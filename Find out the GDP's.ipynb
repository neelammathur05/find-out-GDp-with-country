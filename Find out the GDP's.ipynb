{
 "cells": [
  {
   "cell_type": "code",
   "execution_count": 15,
   "metadata": {},
   "outputs": [
    {
     "name": "stdout",
     "output_type": "stream",
     "text": [
      "[2255.225482, 629.9553062, 11601.63022, 25306.82494, 27266.40335, 19466.99052, 588.3691778, 2890.345675, 24733.62696, 1445.760002, 4803.398244, 2618.876037, 590.4521124, 665.7982328, 7122.938458, 2639.54156, 3362.4656, 15378.16704, 30860.12808, 2579.115607, 6525.541272, 229.6769525, 2242.689259, 27570.4852, 23016.84778, 1334.646773, 402.6953275, 6047.200797, 394.1156638, 385.5793827, 1414.072488, 5745.981529, 837.7464011, 1206.991065, 27715.52837, 18937.24998, 39578.07441, 478.2194906, 16684.21278, 279.2204061, 5345.213415, 6288.25324, 1908.304416, 274.8728621, 14646.42094, 40034.85063, 672.1547506, 3359.517402, 36152.66676, 3054.727742, 33529.83052, 3825.093781, 15428.32098, 33630.24604, 39170.41371, 2699.123242, 21058.43643, 28272.40661, 37691.02733, 9581.05659, 5671.912202, 757.4009286, 347.7456605]\n"
     ]
    }
   ],
   "source": [
    "list1 = ['Algeria','Angola','Argentina','Australia','Austria','Bahamas','Bangladesh','Belarus','Belgium','Bhutan','Brazil','Bulgaria','Cambodia','Cameroon','Chile','China','Colombia','Cyprus','Denmark','El Salvador','Estonia','Ethiopia','Fiji','Finland','France','Georgia','Ghana','Grenada','Guinea','Haiti','Honduras','Hungary','India','Indonesia','Ireland','Italy','Japan','Kenya', 'South Korea','Liberia','Malaysia','Mexico', 'Morocco','Nepal','New Zealand','Norway','Pakistan', 'Peru','Qatar','Russia','Singapore','South Africa','Spain','Sweden','Switzerland','Thailand', 'United Arab Emirates','United Kingdom','United States','Uruguay','Venezuela','Vietnam','Zimbabwe']\n",
    "list2 = [2255.225482,629.9553062,11601.63022,25306.82494,27266.40335,19466.99052,588.3691778,2890.345675,24733.62696,1445.760002,4803.398244,2618.876037,590.4521124,665.7982328,7122.938458,2639.54156,3362.4656,15378.16704,30860.12808,2579.115607,6525.541272,229.6769525,2242.689259,27570.4852,23016.84778,1334.646773,402.6953275,6047.200797,394.1156638,385.5793827,1414.072488,5745.981529,837.7464011,1206.991065,27715.52837,18937.24998,39578.07441,478.2194906,16684.21278,279.2204061,5345.213415,6288.25324,1908.304416,274.8728621,14646.42094,40034.85063,672.1547506,3359.517402,36152.66676,3054.727742,33529.83052,3825.093781,15428.32098,33630.24604,39170.41371,2699.123242,21058.43643,28272.40661,37691.02733,9581.05659,5671.912202,757.4009286,347.7456605]\n",
    "print(list2)"
   ]
  },
  {
   "cell_type": "code",
   "execution_count": 4,
   "metadata": {},
   "outputs": [],
   "source": [
    "import numpy as np\n",
    "list1_np = np.array(list1)\n",
    "list2_np = np.array(list2)"
   ]
  },
  {
   "cell_type": "markdown",
   "metadata": {},
   "source": [
    "Find and print the name of the country with the highest GDP\n",
    "Find and print the name of the country with the lowest GDP\n",
    "Print out text and input values iteratively\n",
    "Print out the entire list of the countries with their GDPs\n",
    "Print the highest GDP value, lowest GDP value, mean GDP value, standardized GDP value, and the sum of all the GDPs"
   ]
  },
  {
   "cell_type": "code",
   "execution_count": 50,
   "metadata": {},
   "outputs": [
    {
     "data": {
      "text/plain": [
       "('Country name :', 'Norway', 'Max GDP :', 40034.85063)"
      ]
     },
     "execution_count": 50,
     "metadata": {},
     "output_type": "execute_result"
    }
   ],
   "source": [
    "#Find and print the name of the country with the highest GDP\n",
    "def max_gdp():\n",
    "    max_con = list1_np.item(list2_np.argmax())\n",
    "    max_value = list2_np.max()\n",
    "    return 'Country name :',max_con ,'Max GDP :',max_value\n",
    "    \n",
    "    \n",
    "max_gdp()"
   ]
  },
  {
   "cell_type": "code",
   "execution_count": 53,
   "metadata": {},
   "outputs": [
    {
     "data": {
      "text/plain": [
       "('Country name :', 'Ethiopia', 'Min GDP :', 229.6769525)"
      ]
     },
     "execution_count": 53,
     "metadata": {},
     "output_type": "execute_result"
    }
   ],
   "source": [
    "#Find and print the name of the country with the lowest GDP\n",
    "def min_gdp():\n",
    "    min_con = list1_np.item(list2_np.argmin())\n",
    "    min_value = list2_np.min()\n",
    "    return 'Country name :',min_con ,'Min GDP :',min_value\n",
    "    \n",
    "    \n",
    "min_gdp()"
   ]
  },
  {
   "cell_type": "code",
   "execution_count": 61,
   "metadata": {},
   "outputs": [
    {
     "name": "stdout",
     "output_type": "stream",
     "text": [
      "Algeria\n",
      "Angola\n",
      "Argentina\n",
      "Australia\n",
      "Austria\n",
      "Bahamas\n",
      "Bangladesh\n",
      "Belarus\n",
      "Belgium\n",
      "Bhutan\n",
      "Brazil\n",
      "Bulgaria\n",
      "Cambodia\n",
      "Cameroon\n",
      "Chile\n",
      "China\n",
      "Colombia\n",
      "Cyprus\n",
      "Denmark\n",
      "El Salvador\n",
      "Estonia\n",
      "Ethiopia\n",
      "Fiji\n",
      "Finland\n",
      "France\n",
      "Georgia\n",
      "Ghana\n",
      "Grenada\n",
      "Guinea\n",
      "Haiti\n",
      "Honduras\n",
      "Hungary\n",
      "India\n",
      "Indonesia\n",
      "Ireland\n",
      "Italy\n",
      "Japan\n",
      "Kenya\n",
      "South Korea\n",
      "Liberia\n",
      "Malaysia\n",
      "Mexico\n",
      "Morocco\n",
      "Nepal\n",
      "New Zealand\n",
      "Norway\n",
      "Pakistan\n",
      "Peru\n",
      "Qatar\n",
      "Russia\n",
      "Singapore\n",
      "South Africa\n",
      "Spain\n",
      "Sweden\n",
      "Switzerland\n",
      "Thailand\n",
      "United Arab Emirates\n",
      "United Kingdom\n",
      "United States\n",
      "Uruguay\n",
      "Venezuela\n",
      "Vietnam\n",
      "Zimbabwe\n",
      "2255.225482\n",
      "629.9553062\n",
      "11601.63022\n",
      "25306.82494\n",
      "27266.40335\n",
      "19466.99052\n",
      "588.3691778\n",
      "2890.345675\n",
      "24733.62696\n",
      "1445.760002\n",
      "4803.398244\n",
      "2618.876037\n",
      "590.4521124\n",
      "665.7982328\n",
      "7122.938458\n",
      "2639.54156\n",
      "3362.4656\n",
      "15378.16704\n",
      "30860.12808\n",
      "2579.115607\n",
      "6525.541272\n",
      "229.6769525\n",
      "2242.689259\n",
      "27570.4852\n",
      "23016.84778\n",
      "1334.646773\n",
      "402.6953275\n",
      "6047.200797\n",
      "394.1156638\n",
      "385.5793827\n",
      "1414.072488\n",
      "5745.981529\n",
      "837.7464011\n",
      "1206.991065\n",
      "27715.52837\n",
      "18937.24998\n",
      "39578.07441\n",
      "478.2194906\n",
      "16684.21278\n",
      "279.2204061\n",
      "5345.213415\n",
      "6288.25324\n",
      "1908.304416\n",
      "274.8728621\n",
      "14646.42094\n",
      "40034.85063\n",
      "672.1547506\n",
      "3359.517402\n",
      "36152.66676\n",
      "3054.727742\n",
      "33529.83052\n",
      "3825.093781\n",
      "15428.32098\n",
      "33630.24604\n",
      "39170.41371\n",
      "2699.123242\n",
      "21058.43643\n",
      "28272.40661\n",
      "37691.02733\n",
      "9581.05659\n",
      "5671.912202\n",
      "757.4009286\n",
      "347.7456605\n"
     ]
    }
   ],
   "source": [
    "#Print out text and input values iteratively\n",
    "for country in list1_np:\n",
    "    print(country)\n",
    "for value in list2_np:\n",
    "    print(value)"
   ]
  },
  {
   "cell_type": "code",
   "execution_count": 68,
   "metadata": {},
   "outputs": [
    {
     "name": "stdout",
     "output_type": "stream",
     "text": [
      "{'Algeria': 2255.225482, 'Angola': 629.9553062, 'Argentina': 11601.63022, 'Australia': 25306.82494, 'Austria': 27266.40335, 'Bahamas': 19466.99052, 'Bangladesh': 588.3691778, 'Belarus': 2890.345675, 'Belgium': 24733.62696, 'Bhutan': 1445.760002, 'Brazil': 4803.398244, 'Bulgaria': 2618.876037, 'Cambodia': 590.4521124, 'Cameroon': 665.7982328, 'Chile': 7122.938458, 'China': 2639.54156, 'Colombia': 3362.4656, 'Cyprus': 15378.16704, 'Denmark': 30860.12808, 'El Salvador': 2579.115607, 'Estonia': 6525.541272, 'Ethiopia': 229.6769525, 'Fiji': 2242.689259, 'Finland': 27570.4852, 'France': 23016.84778, 'Georgia': 1334.646773, 'Ghana': 402.6953275, 'Grenada': 6047.200797, 'Guinea': 394.1156638, 'Haiti': 385.5793827, 'Honduras': 1414.072488, 'Hungary': 5745.981529, 'India': 837.7464011, 'Indonesia': 1206.991065, 'Ireland': 27715.52837, 'Italy': 18937.24998, 'Japan': 39578.07441, 'Kenya': 478.2194906, 'South Korea': 16684.21278, 'Liberia': 279.2204061, 'Malaysia': 5345.213415, 'Mexico': 6288.25324, 'Morocco': 1908.304416, 'Nepal': 274.8728621, 'New Zealand': 14646.42094, 'Norway': 40034.85063, 'Pakistan': 672.1547506, 'Peru': 3359.517402, 'Qatar': 36152.66676, 'Russia': 3054.727742, 'Singapore': 33529.83052, 'South Africa': 3825.093781, 'Spain': 15428.32098, 'Sweden': 33630.24604, 'Switzerland': 39170.41371, 'Thailand': 2699.123242, 'United Arab Emirates': 21058.43643, 'United Kingdom': 28272.40661, 'United States': 37691.02733, 'Uruguay': 9581.05659, 'Venezuela': 5671.912202, 'Vietnam': 757.4009286, 'Zimbabwe': 347.7456605}\n"
     ]
    }
   ],
   "source": [
    "#Print out the entire list of the countries with their GDPs\n",
    "a = zip(list1 , list2)\n",
    "print(dict(a))"
   ]
  },
  {
   "cell_type": "code",
   "execution_count": 82,
   "metadata": {},
   "outputs": [
    {
     "data": {
      "text/plain": [
       "('highest_gdp :',\n",
       " 40034.85063,\n",
       " 'low_gdp',\n",
       " 229.6769525,\n",
       " 'mean_gpd',\n",
       " 11289.409271639684,\n",
       " 'std_gdp',\n",
       " 12743.828910617945,\n",
       " 'sum_of_all_gdp',\n",
       " 711232.7841133001)"
      ]
     },
     "execution_count": 82,
     "metadata": {},
     "output_type": "execute_result"
    }
   ],
   "source": [
    "# Print the highest GDP value, lowest GDP value, mean GDP value, standardized GDP value, and the sum of all the GDPs\n",
    "def result():\n",
    "    highest_gdp = max(list2_np)\n",
    "    low_gdp = min(list2_np)\n",
    "    mean_gpd = sum(list2_np)/len(list2_np)\n",
    "    std_gdp = np.std(list2_np)\n",
    "    sum_of_all_gdp = sum(list2_np)\n",
    "    return 'highest_gdp :' ,highest_gdp,  'low_gdp', low_gdp, 'mean_gpd', mean_gpd, 'std_gdp', std_gdp, 'sum_of_all_gdp', sum_of_all_gdp\n",
    "\n",
    "\n",
    "result()"
   ]
  },
  {
   "cell_type": "code",
   "execution_count": null,
   "metadata": {},
   "outputs": [],
   "source": []
  },
  {
   "cell_type": "code",
   "execution_count": null,
   "metadata": {},
   "outputs": [],
   "source": []
  }
 ],
 "metadata": {
  "kernelspec": {
   "display_name": "Python 3",
   "language": "python",
   "name": "python3"
  },
  "language_info": {
   "codemirror_mode": {
    "name": "ipython",
    "version": 3
   },
   "file_extension": ".py",
   "mimetype": "text/x-python",
   "name": "python",
   "nbconvert_exporter": "python",
   "pygments_lexer": "ipython3",
   "version": "3.7.6"
  }
 },
 "nbformat": 4,
 "nbformat_minor": 4
}
